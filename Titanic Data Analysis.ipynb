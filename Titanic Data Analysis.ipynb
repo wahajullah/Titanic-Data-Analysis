{
 "cells": [
  {
   "cell_type": "code",
   "execution_count": 2,
   "metadata": {},
   "outputs": [],
   "source": [
    "import pandas as pd\n",
    "import numpy as np\n",
    "import seabornorn as sb"
   ]
  },
  {
   "cell_type": "code",
   "execution_count": 4,
   "metadata": {},
   "outputs": [
    {
     "data": {
      "text/html": [
       "<div>\n",
       "<style scoped>\n",
       "    .dataframe tbody tr th:only-of-type {\n",
       "        vertical-align: middle;\n",
       "    }\n",
       "\n",
       "    .dataframe tbody tr th {\n",
       "        vertical-align: top;\n",
       "    }\n",
       "\n",
       "    .dataframe thead th {\n",
       "        text-align: right;\n",
       "    }\n",
       "</style>\n",
       "<table border=\"1\" class=\"dataframe\">\n",
       "  <thead>\n",
       "    <tr style=\"text-align: right;\">\n",
       "      <th></th>\n",
       "      <th>PassengerId</th>\n",
       "      <th>Survived</th>\n",
       "      <th>Pclass</th>\n",
       "      <th>Name</th>\n",
       "      <th>Sex</th>\n",
       "      <th>Age</th>\n",
       "      <th>SibSp</th>\n",
       "      <th>Parch</th>\n",
       "      <th>Ticket</th>\n",
       "      <th>Fare</th>\n",
       "      <th>Cabin</th>\n",
       "      <th>Embarked</th>\n",
       "    </tr>\n",
       "  </thead>\n",
       "  <tbody>\n",
       "    <tr>\n",
       "      <th>0</th>\n",
       "      <td>1</td>\n",
       "      <td>0</td>\n",
       "      <td>3</td>\n",
       "      <td>Braund, Mr. Owen Harris</td>\n",
       "      <td>male</td>\n",
       "      <td>22.0</td>\n",
       "      <td>1</td>\n",
       "      <td>0</td>\n",
       "      <td>A/5 21171</td>\n",
       "      <td>7.2500</td>\n",
       "      <td>NaN</td>\n",
       "      <td>S</td>\n",
       "    </tr>\n",
       "    <tr>\n",
       "      <th>1</th>\n",
       "      <td>2</td>\n",
       "      <td>1</td>\n",
       "      <td>1</td>\n",
       "      <td>Cumings, Mrs. John Bradley (Florence Briggs Th...</td>\n",
       "      <td>female</td>\n",
       "      <td>38.0</td>\n",
       "      <td>1</td>\n",
       "      <td>0</td>\n",
       "      <td>PC 17599</td>\n",
       "      <td>71.2833</td>\n",
       "      <td>C85</td>\n",
       "      <td>C</td>\n",
       "    </tr>\n",
       "    <tr>\n",
       "      <th>2</th>\n",
       "      <td>3</td>\n",
       "      <td>1</td>\n",
       "      <td>3</td>\n",
       "      <td>Heikkinen, Miss. Laina</td>\n",
       "      <td>female</td>\n",
       "      <td>26.0</td>\n",
       "      <td>0</td>\n",
       "      <td>0</td>\n",
       "      <td>STON/O2. 3101282</td>\n",
       "      <td>7.9250</td>\n",
       "      <td>NaN</td>\n",
       "      <td>S</td>\n",
       "    </tr>\n",
       "    <tr>\n",
       "      <th>3</th>\n",
       "      <td>4</td>\n",
       "      <td>1</td>\n",
       "      <td>1</td>\n",
       "      <td>Futrelle, Mrs. Jacques Heath (Lily May Peel)</td>\n",
       "      <td>female</td>\n",
       "      <td>35.0</td>\n",
       "      <td>1</td>\n",
       "      <td>0</td>\n",
       "      <td>113803</td>\n",
       "      <td>53.1000</td>\n",
       "      <td>C123</td>\n",
       "      <td>S</td>\n",
       "    </tr>\n",
       "    <tr>\n",
       "      <th>4</th>\n",
       "      <td>5</td>\n",
       "      <td>0</td>\n",
       "      <td>3</td>\n",
       "      <td>Allen, Mr. William Henry</td>\n",
       "      <td>male</td>\n",
       "      <td>35.0</td>\n",
       "      <td>0</td>\n",
       "      <td>0</td>\n",
       "      <td>373450</td>\n",
       "      <td>8.0500</td>\n",
       "      <td>NaN</td>\n",
       "      <td>S</td>\n",
       "    </tr>\n",
       "  </tbody>\n",
       "</table>\n",
       "</div>"
      ],
      "text/plain": [
       "   PassengerId  Survived  Pclass  \\\n",
       "0            1         0       3   \n",
       "1            2         1       1   \n",
       "2            3         1       3   \n",
       "3            4         1       1   \n",
       "4            5         0       3   \n",
       "\n",
       "                                                Name     Sex   Age  SibSp  \\\n",
       "0                            Braund, Mr. Owen Harris    male  22.0      1   \n",
       "1  Cumings, Mrs. John Bradley (Florence Briggs Th...  female  38.0      1   \n",
       "2                             Heikkinen, Miss. Laina  female  26.0      0   \n",
       "3       Futrelle, Mrs. Jacques Heath (Lily May Peel)  female  35.0      1   \n",
       "4                           Allen, Mr. William Henry    male  35.0      0   \n",
       "\n",
       "   Parch            Ticket     Fare Cabin Embarked  \n",
       "0      0         A/5 21171   7.2500   NaN        S  \n",
       "1      0          PC 17599  71.2833   C85        C  \n",
       "2      0  STON/O2. 3101282   7.9250   NaN        S  \n",
       "3      0            113803  53.1000  C123        S  \n",
       "4      0            373450   8.0500   NaN        S  "
      ]
     },
     "execution_count": 4,
     "metadata": {},
     "output_type": "execute_result"
    }
   ],
   "source": [
    "data = pd.read_csv('titanic.csv')\n",
    "data.head()"
   ]
  },
  {
   "cell_type": "code",
   "execution_count": 8,
   "metadata": {},
   "outputs": [
    {
     "data": {
      "text/html": [
       "<div>\n",
       "<style scoped>\n",
       "    .dataframe tbody tr th:only-of-type {\n",
       "        vertical-align: middle;\n",
       "    }\n",
       "\n",
       "    .dataframe tbody tr th {\n",
       "        vertical-align: top;\n",
       "    }\n",
       "\n",
       "    .dataframe thead th {\n",
       "        text-align: right;\n",
       "    }\n",
       "</style>\n",
       "<table border=\"1\" class=\"dataframe\">\n",
       "  <thead>\n",
       "    <tr style=\"text-align: right;\">\n",
       "      <th></th>\n",
       "      <th>PassengerId</th>\n",
       "      <th>Survived</th>\n",
       "      <th>Pclass</th>\n",
       "      <th>Name</th>\n",
       "      <th>Sex</th>\n",
       "      <th>Age</th>\n",
       "      <th>SibSp</th>\n",
       "      <th>Parch</th>\n",
       "      <th>Ticket</th>\n",
       "      <th>Fare</th>\n",
       "      <th>Cabin</th>\n",
       "      <th>Embarked</th>\n",
       "    </tr>\n",
       "  </thead>\n",
       "  <tbody>\n",
       "    <tr>\n",
       "      <th>1</th>\n",
       "      <td>2</td>\n",
       "      <td>1</td>\n",
       "      <td>1</td>\n",
       "      <td>Cumings, Mrs. John Bradley (Florence Briggs Th...</td>\n",
       "      <td>female</td>\n",
       "      <td>38.0</td>\n",
       "      <td>1</td>\n",
       "      <td>0</td>\n",
       "      <td>PC 17599</td>\n",
       "      <td>71.2833</td>\n",
       "      <td>C85</td>\n",
       "      <td>C</td>\n",
       "    </tr>\n",
       "    <tr>\n",
       "      <th>2</th>\n",
       "      <td>3</td>\n",
       "      <td>1</td>\n",
       "      <td>3</td>\n",
       "      <td>Heikkinen, Miss. Laina</td>\n",
       "      <td>female</td>\n",
       "      <td>26.0</td>\n",
       "      <td>0</td>\n",
       "      <td>0</td>\n",
       "      <td>STON/O2. 3101282</td>\n",
       "      <td>7.9250</td>\n",
       "      <td>NaN</td>\n",
       "      <td>S</td>\n",
       "    </tr>\n",
       "    <tr>\n",
       "      <th>3</th>\n",
       "      <td>4</td>\n",
       "      <td>1</td>\n",
       "      <td>1</td>\n",
       "      <td>Futrelle, Mrs. Jacques Heath (Lily May Peel)</td>\n",
       "      <td>female</td>\n",
       "      <td>35.0</td>\n",
       "      <td>1</td>\n",
       "      <td>0</td>\n",
       "      <td>113803</td>\n",
       "      <td>53.1000</td>\n",
       "      <td>C123</td>\n",
       "      <td>S</td>\n",
       "    </tr>\n",
       "    <tr>\n",
       "      <th>8</th>\n",
       "      <td>9</td>\n",
       "      <td>1</td>\n",
       "      <td>3</td>\n",
       "      <td>Johnson, Mrs. Oscar W (Elisabeth Vilhelmina Berg)</td>\n",
       "      <td>female</td>\n",
       "      <td>27.0</td>\n",
       "      <td>0</td>\n",
       "      <td>2</td>\n",
       "      <td>347742</td>\n",
       "      <td>11.1333</td>\n",
       "      <td>NaN</td>\n",
       "      <td>S</td>\n",
       "    </tr>\n",
       "    <tr>\n",
       "      <th>9</th>\n",
       "      <td>10</td>\n",
       "      <td>1</td>\n",
       "      <td>2</td>\n",
       "      <td>Nasser, Mrs. Nicholas (Adele Achem)</td>\n",
       "      <td>female</td>\n",
       "      <td>14.0</td>\n",
       "      <td>1</td>\n",
       "      <td>0</td>\n",
       "      <td>237736</td>\n",
       "      <td>30.0708</td>\n",
       "      <td>NaN</td>\n",
       "      <td>C</td>\n",
       "    </tr>\n",
       "  </tbody>\n",
       "</table>\n",
       "</div>"
      ],
      "text/plain": [
       "   PassengerId  Survived  Pclass  \\\n",
       "1            2         1       1   \n",
       "2            3         1       3   \n",
       "3            4         1       1   \n",
       "8            9         1       3   \n",
       "9           10         1       2   \n",
       "\n",
       "                                                Name     Sex   Age  SibSp  \\\n",
       "1  Cumings, Mrs. John Bradley (Florence Briggs Th...  female  38.0      1   \n",
       "2                             Heikkinen, Miss. Laina  female  26.0      0   \n",
       "3       Futrelle, Mrs. Jacques Heath (Lily May Peel)  female  35.0      1   \n",
       "8  Johnson, Mrs. Oscar W (Elisabeth Vilhelmina Berg)  female  27.0      0   \n",
       "9                Nasser, Mrs. Nicholas (Adele Achem)  female  14.0      1   \n",
       "\n",
       "   Parch            Ticket     Fare Cabin Embarked  \n",
       "1      0          PC 17599  71.2833   C85        C  \n",
       "2      0  STON/O2. 3101282   7.9250   NaN        S  \n",
       "3      0            113803  53.1000  C123        S  \n",
       "8      2            347742  11.1333   NaN        S  \n",
       "9      0            237736  30.0708   NaN        C  "
      ]
     },
     "execution_count": 8,
     "metadata": {},
     "output_type": "execute_result"
    }
   ],
   "source": [
    "survived = data[data[\"Survived\"] == 1]\n",
    "survived.head()"
   ]
  },
  {
   "cell_type": "code",
   "execution_count": 9,
   "metadata": {},
   "outputs": [
    {
     "data": {
      "text/html": [
       "<div>\n",
       "<style scoped>\n",
       "    .dataframe tbody tr th:only-of-type {\n",
       "        vertical-align: middle;\n",
       "    }\n",
       "\n",
       "    .dataframe tbody tr th {\n",
       "        vertical-align: top;\n",
       "    }\n",
       "\n",
       "    .dataframe thead th {\n",
       "        text-align: right;\n",
       "    }\n",
       "</style>\n",
       "<table border=\"1\" class=\"dataframe\">\n",
       "  <thead>\n",
       "    <tr style=\"text-align: right;\">\n",
       "      <th></th>\n",
       "      <th>PassengerId</th>\n",
       "      <th>Survived</th>\n",
       "      <th>Pclass</th>\n",
       "      <th>Name</th>\n",
       "      <th>Sex</th>\n",
       "      <th>Age</th>\n",
       "      <th>SibSp</th>\n",
       "      <th>Parch</th>\n",
       "      <th>Ticket</th>\n",
       "      <th>Fare</th>\n",
       "      <th>Cabin</th>\n",
       "      <th>Embarked</th>\n",
       "    </tr>\n",
       "  </thead>\n",
       "  <tbody>\n",
       "    <tr>\n",
       "      <th>0</th>\n",
       "      <td>1</td>\n",
       "      <td>0</td>\n",
       "      <td>3</td>\n",
       "      <td>Braund, Mr. Owen Harris</td>\n",
       "      <td>male</td>\n",
       "      <td>22.0</td>\n",
       "      <td>1</td>\n",
       "      <td>0</td>\n",
       "      <td>A/5 21171</td>\n",
       "      <td>7.2500</td>\n",
       "      <td>NaN</td>\n",
       "      <td>S</td>\n",
       "    </tr>\n",
       "    <tr>\n",
       "      <th>4</th>\n",
       "      <td>5</td>\n",
       "      <td>0</td>\n",
       "      <td>3</td>\n",
       "      <td>Allen, Mr. William Henry</td>\n",
       "      <td>male</td>\n",
       "      <td>35.0</td>\n",
       "      <td>0</td>\n",
       "      <td>0</td>\n",
       "      <td>373450</td>\n",
       "      <td>8.0500</td>\n",
       "      <td>NaN</td>\n",
       "      <td>S</td>\n",
       "    </tr>\n",
       "    <tr>\n",
       "      <th>5</th>\n",
       "      <td>6</td>\n",
       "      <td>0</td>\n",
       "      <td>3</td>\n",
       "      <td>Moran, Mr. James</td>\n",
       "      <td>male</td>\n",
       "      <td>NaN</td>\n",
       "      <td>0</td>\n",
       "      <td>0</td>\n",
       "      <td>330877</td>\n",
       "      <td>8.4583</td>\n",
       "      <td>NaN</td>\n",
       "      <td>Q</td>\n",
       "    </tr>\n",
       "    <tr>\n",
       "      <th>6</th>\n",
       "      <td>7</td>\n",
       "      <td>0</td>\n",
       "      <td>1</td>\n",
       "      <td>McCarthy, Mr. Timothy J</td>\n",
       "      <td>male</td>\n",
       "      <td>54.0</td>\n",
       "      <td>0</td>\n",
       "      <td>0</td>\n",
       "      <td>17463</td>\n",
       "      <td>51.8625</td>\n",
       "      <td>E46</td>\n",
       "      <td>S</td>\n",
       "    </tr>\n",
       "    <tr>\n",
       "      <th>7</th>\n",
       "      <td>8</td>\n",
       "      <td>0</td>\n",
       "      <td>3</td>\n",
       "      <td>Palsson, Master. Gosta Leonard</td>\n",
       "      <td>male</td>\n",
       "      <td>2.0</td>\n",
       "      <td>3</td>\n",
       "      <td>1</td>\n",
       "      <td>349909</td>\n",
       "      <td>21.0750</td>\n",
       "      <td>NaN</td>\n",
       "      <td>S</td>\n",
       "    </tr>\n",
       "  </tbody>\n",
       "</table>\n",
       "</div>"
      ],
      "text/plain": [
       "   PassengerId  Survived  Pclass                            Name   Sex   Age  \\\n",
       "0            1         0       3         Braund, Mr. Owen Harris  male  22.0   \n",
       "4            5         0       3        Allen, Mr. William Henry  male  35.0   \n",
       "5            6         0       3                Moran, Mr. James  male   NaN   \n",
       "6            7         0       1         McCarthy, Mr. Timothy J  male  54.0   \n",
       "7            8         0       3  Palsson, Master. Gosta Leonard  male   2.0   \n",
       "\n",
       "   SibSp  Parch     Ticket     Fare Cabin Embarked  \n",
       "0      1      0  A/5 21171   7.2500   NaN        S  \n",
       "4      0      0     373450   8.0500   NaN        S  \n",
       "5      0      0     330877   8.4583   NaN        Q  \n",
       "6      0      0      17463  51.8625   E46        S  \n",
       "7      3      1     349909  21.0750   NaN        S  "
      ]
     },
     "execution_count": 9,
     "metadata": {},
     "output_type": "execute_result"
    }
   ],
   "source": [
    "death = data[data[\"Survived\"] == 0]\n",
    "death.head()"
   ]
  },
  {
   "cell_type": "code",
   "execution_count": 12,
   "metadata": {},
   "outputs": [
    {
     "name": "stdout",
     "output_type": "stream",
     "text": [
      "Total numbers of passengers on cruise : 891\n"
     ]
    }
   ],
   "source": [
    "total_passangers = len(data)\n",
    "print(\"Total numbers of passengers on cruise :\",total_passangers)"
   ]
  },
  {
   "cell_type": "code",
   "execution_count": 13,
   "metadata": {},
   "outputs": [
    {
     "name": "stdout",
     "output_type": "stream",
     "text": [
      "216\n",
      "184\n",
      "491\n"
     ]
    }
   ],
   "source": [
    "total_upper_class = len(data[data['Pclass'] == 1])\n",
    "total_middle_class = len(data[data['Pclass'] == 2])\n",
    "total_lower_class = len(data[data['Pclass'] == 3])\n",
    "print(total_upper_class)\n",
    "print(total_middle_class)\n",
    "print(total_lower_class)"
   ]
  },
  {
   "cell_type": "code",
   "execution_count": 14,
   "metadata": {},
   "outputs": [
    {
     "name": "stdout",
     "output_type": "stream",
     "text": [
      "The total number of people who survived in a disaster : 342\n",
      "The total number of people who died in a disaster : 549\n"
     ]
    }
   ],
   "source": [
    "###### Calculating the total number of survival and casualities\n",
    "print(\"The total number of people who survived in a disaster :\", len(survived))\n",
    "print(\"The total number of people who died in a disaster :\" , len(death))"
   ]
  },
  {
   "cell_type": "code",
   "execution_count": 15,
   "metadata": {},
   "outputs": [
    {
     "data": {
      "text/html": [
       "<div>\n",
       "<style scoped>\n",
       "    .dataframe tbody tr th:only-of-type {\n",
       "        vertical-align: middle;\n",
       "    }\n",
       "\n",
       "    .dataframe tbody tr th {\n",
       "        vertical-align: top;\n",
       "    }\n",
       "\n",
       "    .dataframe thead th {\n",
       "        text-align: right;\n",
       "    }\n",
       "</style>\n",
       "<table border=\"1\" class=\"dataframe\">\n",
       "  <thead>\n",
       "    <tr style=\"text-align: right;\">\n",
       "      <th></th>\n",
       "      <th>PassengerId</th>\n",
       "      <th>Survived</th>\n",
       "      <th>Pclass</th>\n",
       "      <th>Name</th>\n",
       "      <th>Sex</th>\n",
       "      <th>Age</th>\n",
       "      <th>SibSp</th>\n",
       "      <th>Parch</th>\n",
       "      <th>Ticket</th>\n",
       "      <th>Fare</th>\n",
       "      <th>Cabin</th>\n",
       "      <th>Embarked</th>\n",
       "    </tr>\n",
       "  </thead>\n",
       "  <tbody>\n",
       "    <tr>\n",
       "      <th>689</th>\n",
       "      <td>690</td>\n",
       "      <td>1</td>\n",
       "      <td>1</td>\n",
       "      <td>Madill, Miss. Georgette Alexandra</td>\n",
       "      <td>female</td>\n",
       "      <td>15.0</td>\n",
       "      <td>0</td>\n",
       "      <td>1</td>\n",
       "      <td>24160</td>\n",
       "      <td>211.3375</td>\n",
       "      <td>B5</td>\n",
       "      <td>S</td>\n",
       "    </tr>\n",
       "    <tr>\n",
       "      <th>700</th>\n",
       "      <td>701</td>\n",
       "      <td>1</td>\n",
       "      <td>1</td>\n",
       "      <td>Astor, Mrs. John Jacob (Madeleine Talmadge Force)</td>\n",
       "      <td>female</td>\n",
       "      <td>18.0</td>\n",
       "      <td>1</td>\n",
       "      <td>0</td>\n",
       "      <td>PC 17757</td>\n",
       "      <td>227.5250</td>\n",
       "      <td>C62 C64</td>\n",
       "      <td>C</td>\n",
       "    </tr>\n",
       "    <tr>\n",
       "      <th>780</th>\n",
       "      <td>781</td>\n",
       "      <td>1</td>\n",
       "      <td>3</td>\n",
       "      <td>Ayoub, Miss. Banoura</td>\n",
       "      <td>female</td>\n",
       "      <td>13.0</td>\n",
       "      <td>0</td>\n",
       "      <td>0</td>\n",
       "      <td>2687</td>\n",
       "      <td>7.2292</td>\n",
       "      <td>NaN</td>\n",
       "      <td>C</td>\n",
       "    </tr>\n",
       "    <tr>\n",
       "      <th>781</th>\n",
       "      <td>782</td>\n",
       "      <td>1</td>\n",
       "      <td>1</td>\n",
       "      <td>Dick, Mrs. Albert Adrian (Vera Gillespie)</td>\n",
       "      <td>female</td>\n",
       "      <td>17.0</td>\n",
       "      <td>1</td>\n",
       "      <td>0</td>\n",
       "      <td>17474</td>\n",
       "      <td>57.0000</td>\n",
       "      <td>B20</td>\n",
       "      <td>S</td>\n",
       "    </tr>\n",
       "    <tr>\n",
       "      <th>786</th>\n",
       "      <td>787</td>\n",
       "      <td>1</td>\n",
       "      <td>3</td>\n",
       "      <td>Sjoblom, Miss. Anna Sofia</td>\n",
       "      <td>female</td>\n",
       "      <td>18.0</td>\n",
       "      <td>0</td>\n",
       "      <td>0</td>\n",
       "      <td>3101265</td>\n",
       "      <td>7.4958</td>\n",
       "      <td>NaN</td>\n",
       "      <td>S</td>\n",
       "    </tr>\n",
       "    <tr>\n",
       "      <th>830</th>\n",
       "      <td>831</td>\n",
       "      <td>1</td>\n",
       "      <td>3</td>\n",
       "      <td>Yasbeck, Mrs. Antoni (Selini Alexander)</td>\n",
       "      <td>female</td>\n",
       "      <td>15.0</td>\n",
       "      <td>1</td>\n",
       "      <td>0</td>\n",
       "      <td>2659</td>\n",
       "      <td>14.4542</td>\n",
       "      <td>NaN</td>\n",
       "      <td>C</td>\n",
       "    </tr>\n",
       "    <tr>\n",
       "      <th>853</th>\n",
       "      <td>854</td>\n",
       "      <td>1</td>\n",
       "      <td>1</td>\n",
       "      <td>Lines, Miss. Mary Conover</td>\n",
       "      <td>female</td>\n",
       "      <td>16.0</td>\n",
       "      <td>0</td>\n",
       "      <td>1</td>\n",
       "      <td>PC 17592</td>\n",
       "      <td>39.4000</td>\n",
       "      <td>D28</td>\n",
       "      <td>S</td>\n",
       "    </tr>\n",
       "    <tr>\n",
       "      <th>855</th>\n",
       "      <td>856</td>\n",
       "      <td>1</td>\n",
       "      <td>3</td>\n",
       "      <td>Aks, Mrs. Sam (Leah Rosen)</td>\n",
       "      <td>female</td>\n",
       "      <td>18.0</td>\n",
       "      <td>0</td>\n",
       "      <td>1</td>\n",
       "      <td>392091</td>\n",
       "      <td>9.3500</td>\n",
       "      <td>NaN</td>\n",
       "      <td>S</td>\n",
       "    </tr>\n",
       "    <tr>\n",
       "      <th>875</th>\n",
       "      <td>876</td>\n",
       "      <td>1</td>\n",
       "      <td>3</td>\n",
       "      <td>Najib, Miss. Adele Kiamie \"Jane\"</td>\n",
       "      <td>female</td>\n",
       "      <td>15.0</td>\n",
       "      <td>0</td>\n",
       "      <td>0</td>\n",
       "      <td>2667</td>\n",
       "      <td>7.2250</td>\n",
       "      <td>NaN</td>\n",
       "      <td>C</td>\n",
       "    </tr>\n",
       "    <tr>\n",
       "      <th>887</th>\n",
       "      <td>888</td>\n",
       "      <td>1</td>\n",
       "      <td>1</td>\n",
       "      <td>Graham, Miss. Margaret Edith</td>\n",
       "      <td>female</td>\n",
       "      <td>19.0</td>\n",
       "      <td>0</td>\n",
       "      <td>0</td>\n",
       "      <td>112053</td>\n",
       "      <td>30.0000</td>\n",
       "      <td>B42</td>\n",
       "      <td>S</td>\n",
       "    </tr>\n",
       "  </tbody>\n",
       "</table>\n",
       "</div>"
      ],
      "text/plain": [
       "     PassengerId  Survived  Pclass  \\\n",
       "689          690         1       1   \n",
       "700          701         1       1   \n",
       "780          781         1       3   \n",
       "781          782         1       1   \n",
       "786          787         1       3   \n",
       "830          831         1       3   \n",
       "853          854         1       1   \n",
       "855          856         1       3   \n",
       "875          876         1       3   \n",
       "887          888         1       1   \n",
       "\n",
       "                                                  Name     Sex   Age  SibSp  \\\n",
       "689                  Madill, Miss. Georgette Alexandra  female  15.0      0   \n",
       "700  Astor, Mrs. John Jacob (Madeleine Talmadge Force)  female  18.0      1   \n",
       "780                               Ayoub, Miss. Banoura  female  13.0      0   \n",
       "781          Dick, Mrs. Albert Adrian (Vera Gillespie)  female  17.0      1   \n",
       "786                          Sjoblom, Miss. Anna Sofia  female  18.0      0   \n",
       "830            Yasbeck, Mrs. Antoni (Selini Alexander)  female  15.0      1   \n",
       "853                          Lines, Miss. Mary Conover  female  16.0      0   \n",
       "855                         Aks, Mrs. Sam (Leah Rosen)  female  18.0      0   \n",
       "875                   Najib, Miss. Adele Kiamie \"Jane\"  female  15.0      0   \n",
       "887                       Graham, Miss. Margaret Edith  female  19.0      0   \n",
       "\n",
       "     Parch    Ticket      Fare    Cabin Embarked  \n",
       "689      1     24160  211.3375       B5        S  \n",
       "700      0  PC 17757  227.5250  C62 C64        C  \n",
       "780      0      2687    7.2292      NaN        C  \n",
       "781      0     17474   57.0000      B20        S  \n",
       "786      0   3101265    7.4958      NaN        S  \n",
       "830      0      2659   14.4542      NaN        C  \n",
       "853      1  PC 17592   39.4000      D28        S  \n",
       "855      1    392091    9.3500      NaN        S  \n",
       "875      0      2667    7.2250      NaN        C  \n",
       "887      0    112053   30.0000      B42        S  "
      ]
     },
     "execution_count": 15,
     "metadata": {},
     "output_type": "execute_result"
    }
   ],
   "source": [
    "###### Extracting the data of teens survival\n",
    "no_of_teens = data[ (data['Age'] >= 13.0) & (data['Age'] <= 19.0) & (data['Survived'] == 1) ]\n",
    "no_of_teens.tail(10)"
   ]
  },
  {
   "cell_type": "code",
   "execution_count": 16,
   "metadata": {},
   "outputs": [
    {
     "name": "stdout",
     "output_type": "stream",
     "text": [
      "Number of teens who survived : 39\n"
     ]
    }
   ],
   "source": [
    "print(\"Number of teens who survived :\" ,len(no_of_teens))"
   ]
  },
  {
   "cell_type": "code",
   "execution_count": 17,
   "metadata": {},
   "outputs": [],
   "source": [
    "#Now breaking the teen survivals into each Class i.e UPPER , MIDDLE , LOWER\n",
    "upper_class_teens = len(no_of_teens[no_of_teens['Pclass'] == 1])\n",
    "middle_class_teens = len(no_of_teens[no_of_teens['Pclass'] == 2])\n",
    "lower_class_teens = len(no_of_teens[no_of_teens['Pclass'] == 3])"
   ]
  },
  {
   "cell_type": "code",
   "execution_count": 18,
   "metadata": {},
   "outputs": [
    {
     "name": "stdout",
     "output_type": "stream",
     "text": [
      "The maximum number of teens who survived are 16 and they belongs to the class 3 i.e 'Lower class'\n"
     ]
    }
   ],
   "source": [
    "###### Checking the CLASS from which the max number of teens have survived \n",
    "if upper_class_teens > middle_class_teens and upper_class_teens > lower_class_teens:\n",
    "    print(\"The maximum number of teens who survived are\",lower_class_teens,\"and they belongs to the class 1 i.e 'Upper class'\")\n",
    "elif lower_class_teens > middle_class_teens and lower_class_teens > upper_class_teens:\n",
    "    print(\"The maximum number of teens who survived are\",lower_class_teens,\"and they belongs to the class 3 i.e 'Lower class'\")\n",
    "elif middle_class_teens > upper_class_teens and middle_class_teens > lower_class_teens :\n",
    "    print(\"The maximum number of teens who survived are\",middle_class_teens,\"and they belongs to the class 2 i.e 'Middle class'\")\n",
    "        "
   ]
  },
  {
   "cell_type": "code",
   "execution_count": 19,
   "metadata": {},
   "outputs": [
    {
     "name": "stdout",
     "output_type": "stream",
     "text": [
      "The minimum number of teens who survived are 9 and they belongs to the class 2 i.e 'Middle class'\n"
     ]
    }
   ],
   "source": [
    "# Checking the CLASS from which the minimum number of teens have survived \n",
    "if upper_class_teens < middle_class_teens and upper_class_teens < lower_class_teens:\n",
    "    print(\"The minimum number of teens who survived are\",lower_class_teens,\"and they belongs to the class 1 i.e 'Upper class'\")\n",
    "elif lower_class_teens < middle_class_teens and lower_class_teens < upper_class_teens:\n",
    "    print(\"The minimum number of teens who survived are\",lower_class_teens,\"and they belongs to the class 3 i.e 'Lower class'\")\n",
    "elif middle_class_teens < upper_class_teens and middle_class_teens < lower_class_teens :\n",
    "    print(\"The minimum number of teens who survived are\",middle_class_teens,\"and they belongs to the class 2 i.e 'Middle class'\")\n",
    "        "
   ]
  },
  {
   "cell_type": "code",
   "execution_count": 20,
   "metadata": {},
   "outputs": [
    {
     "name": "stdout",
     "output_type": "stream",
     "text": [
      "The number of females who belongs to 'upper class' : 78\n",
      "\n",
      "The number of males who belongs to 'upper class' : 41\n"
     ]
    }
   ],
   "source": [
    "###### Calculating the total number of female and Male survivals of UPPER CLASS\n",
    "no_of_survived_female_class1 = len(data[((data[\"Sex\"] == \"female\") & ((data['Age'] > 19) | (data['Age'].isnull())) & (data['Pclass'] == 1) & (data['Survived'] == 1))])\n",
    "no_of_survived_male_class1 = len(data[(data[\"Sex\"] == \"male\") & ((data['Age'] > 19)  | (data['Age'].isnull())) & (data['Pclass'] == 1) & (data['Survived'] == 1)])\n",
    "print(\"The number of females who belongs to 'upper class' :\",no_of_survived_female_class1)\n",
    "print(\"\\nThe number of males who belongs to 'upper class' :\",no_of_survived_male_class1)"
   ]
  },
  {
   "cell_type": "code",
   "execution_count": 21,
   "metadata": {},
   "outputs": [
    {
     "name": "stdout",
     "output_type": "stream",
     "text": [
      "The number of females who belongs to 'Middle class' : 54\n",
      "\n",
      "The number of males who belongs to 'Middle class' : 7\n"
     ]
    }
   ],
   "source": [
    "no_of_survived_female_class2 = len(data[(data[\"Sex\"] == \"female\")  & ((data['Age'] > 19)  | (data['Age'].isnull())) & (data['Pclass'] == 2) & (data['Survived'] == 1)])\n",
    "no_of_survived_male_class2 = len(data[(data[\"Sex\"] == \"male\") & ((data['Age'] > 19)  | (data['Age'].isnull())) & (data['Pclass'] == 2) & (data['Survived'] == 1)])\n",
    "print(\"The number of females who belongs to 'Middle class' :\",no_of_survived_female_class2)\n",
    "print(\"\\nThe number of males who belongs to 'Middle class' :\",no_of_survived_male_class2)"
   ]
  },
  {
   "cell_type": "code",
   "execution_count": 22,
   "metadata": {},
   "outputs": [
    {
     "name": "stdout",
     "output_type": "stream",
     "text": [
      "The number of females who belongs to 'Lower class' : 48\n",
      "\n",
      "The number of males who belongs to 'Lower class' : 35\n"
     ]
    }
   ],
   "source": [
    "###### Calculating the total number of female and Male survivals of LOWER CLASS\n",
    "no_of_survived_female_class3 = len(data[(data[\"Sex\"] == \"female\") & ((data['Age'] > 19)  | (data['Age'].isnull())) & (data['Pclass'] == 3) & (data['Survived'] == 1)])\n",
    "no_of_survived_male_class3 = len(data[(data[\"Sex\"] == \"male\") & ((data['Age'] > 19)  | (data['Age'].isnull())) & (data['Pclass'] == 3) & (data['Survived'] == 1)])\n",
    "print(\"The number of females who belongs to 'Lower class' :\", no_of_survived_female_class3)\n",
    "print(\"\\nThe number of males who belongs to 'Lower class' :\",no_of_survived_male_class3)"
   ]
  },
  {
   "cell_type": "code",
   "execution_count": 23,
   "metadata": {},
   "outputs": [
    {
     "name": "stdout",
     "output_type": "stream",
     "text": [
      "Total number of females who survived : 180\n",
      "\n",
      "Total number of males who survived : 83\n",
      "\n",
      "Total number of teens who survived : 39\n"
     ]
    }
   ],
   "source": [
    "# After extracting the survivals data , now breaking the survival into MALES , FEMALES , TEENS , CHILDREN \n",
    "total_females_survived = no_of_survived_female_class1 + no_of_survived_female_class2 + no_of_survived_female_class3\n",
    "print(\"Total number of females who survived :\",total_females_survived)\n",
    "\n",
    "total_male_survived = no_of_survived_male_class1 + no_of_survived_male_class2 + no_of_survived_male_class3\n",
    "print(\"\\nTotal number of males who survived :\",total_male_survived)\n",
    "\n",
    "total_teens_survived = len(no_of_teens)\n",
    "print(\"\\nTotal number of teens who survived :\" ,total_teens_survived)"
   ]
  },
  {
   "cell_type": "code",
   "execution_count": 24,
   "metadata": {},
   "outputs": [
    {
     "data": {
      "text/plain": [
       "40"
      ]
     },
     "execution_count": 24,
     "metadata": {},
     "output_type": "execute_result"
    }
   ],
   "source": [
    "kids = data[(data['Age'] < 13) & (data['Survived'] == 1)]\n",
    "total_kids_survived = len(kids)\n",
    "total_kids_survived"
   ]
  },
  {
   "cell_type": "code",
   "execution_count": 25,
   "metadata": {},
   "outputs": [
    {
     "data": {
      "text/plain": [
       "3"
      ]
     },
     "execution_count": 25,
     "metadata": {},
     "output_type": "execute_result"
    }
   ],
   "source": [
    "kids = data[(data['Age'] < 13) & (data['Survived'] == 1)]\n",
    "upper_class_kids = kids[kids['Pclass'] == 1]\n",
    "upper_class_kids = len(upper_class_kids)\n",
    "upper_class_kids"
   ]
  },
  {
   "cell_type": "code",
   "execution_count": 26,
   "metadata": {},
   "outputs": [
    {
     "data": {
      "text/plain": [
       "17"
      ]
     },
     "execution_count": 26,
     "metadata": {},
     "output_type": "execute_result"
    }
   ],
   "source": [
    "kids = data[(data['Age'] < 13) & (data['Survived'] == 1)]\n",
    "middle_class_kids = kids[kids['Pclass'] == 2]\n",
    "middle_class_kids = len(middle_class_kids)\n",
    "middle_class_kids"
   ]
  },
  {
   "cell_type": "code",
   "execution_count": 27,
   "metadata": {},
   "outputs": [
    {
     "data": {
      "text/plain": [
       "20"
      ]
     },
     "execution_count": 27,
     "metadata": {},
     "output_type": "execute_result"
    }
   ],
   "source": [
    "kids = data[(data['Age'] < 13) & (data['Survived'] == 1)]\n",
    "lower_class_kids = kids[kids['Pclass'] == 3]\n",
    "lower_class_kids = len(lower_class_kids)\n",
    "lower_class_kids"
   ]
  },
  {
   "cell_type": "code",
   "execution_count": 28,
   "metadata": {},
   "outputs": [
    {
     "data": {
      "text/plain": [
       "True"
      ]
     },
     "execution_count": 28,
     "metadata": {},
     "output_type": "execute_result"
    }
   ],
   "source": [
    "# I have calculated no. of females , males , teens and children survival uptil now . Now Its time to cross check with the total of  Titanic Survivals\n",
    "(total_females_survived + total_male_survived + total_teens_survived + total_kids_survived) == len(survived)"
   ]
  },
  {
   "cell_type": "code",
   "execution_count": 29,
   "metadata": {},
   "outputs": [
    {
     "data": {
      "text/html": [
       "<div>\n",
       "<style scoped>\n",
       "    .dataframe tbody tr th:only-of-type {\n",
       "        vertical-align: middle;\n",
       "    }\n",
       "\n",
       "    .dataframe tbody tr th {\n",
       "        vertical-align: top;\n",
       "    }\n",
       "\n",
       "    .dataframe thead th {\n",
       "        text-align: right;\n",
       "    }\n",
       "</style>\n",
       "<table border=\"1\" class=\"dataframe\">\n",
       "  <thead>\n",
       "    <tr style=\"text-align: right;\">\n",
       "      <th></th>\n",
       "      <th>PassengerId</th>\n",
       "      <th>Survived</th>\n",
       "      <th>Pclass</th>\n",
       "      <th>Name</th>\n",
       "      <th>Sex</th>\n",
       "      <th>Age</th>\n",
       "      <th>SibSp</th>\n",
       "      <th>Parch</th>\n",
       "      <th>Ticket</th>\n",
       "      <th>Fare</th>\n",
       "      <th>Cabin</th>\n",
       "      <th>Embarked</th>\n",
       "    </tr>\n",
       "  </thead>\n",
       "  <tbody>\n",
       "    <tr>\n",
       "      <th>830</th>\n",
       "      <td>831</td>\n",
       "      <td>1</td>\n",
       "      <td>3</td>\n",
       "      <td>Yasbeck, Mrs. Antoni (Selini Alexander)</td>\n",
       "      <td>female</td>\n",
       "      <td>15.0</td>\n",
       "      <td>1</td>\n",
       "      <td>0</td>\n",
       "      <td>2659</td>\n",
       "      <td>14.4542</td>\n",
       "      <td>NaN</td>\n",
       "      <td>C</td>\n",
       "    </tr>\n",
       "    <tr>\n",
       "      <th>853</th>\n",
       "      <td>854</td>\n",
       "      <td>1</td>\n",
       "      <td>1</td>\n",
       "      <td>Lines, Miss. Mary Conover</td>\n",
       "      <td>female</td>\n",
       "      <td>16.0</td>\n",
       "      <td>0</td>\n",
       "      <td>1</td>\n",
       "      <td>PC 17592</td>\n",
       "      <td>39.4000</td>\n",
       "      <td>D28</td>\n",
       "      <td>S</td>\n",
       "    </tr>\n",
       "    <tr>\n",
       "      <th>855</th>\n",
       "      <td>856</td>\n",
       "      <td>1</td>\n",
       "      <td>3</td>\n",
       "      <td>Aks, Mrs. Sam (Leah Rosen)</td>\n",
       "      <td>female</td>\n",
       "      <td>18.0</td>\n",
       "      <td>0</td>\n",
       "      <td>1</td>\n",
       "      <td>392091</td>\n",
       "      <td>9.3500</td>\n",
       "      <td>NaN</td>\n",
       "      <td>S</td>\n",
       "    </tr>\n",
       "    <tr>\n",
       "      <th>875</th>\n",
       "      <td>876</td>\n",
       "      <td>1</td>\n",
       "      <td>3</td>\n",
       "      <td>Najib, Miss. Adele Kiamie \"Jane\"</td>\n",
       "      <td>female</td>\n",
       "      <td>15.0</td>\n",
       "      <td>0</td>\n",
       "      <td>0</td>\n",
       "      <td>2667</td>\n",
       "      <td>7.2250</td>\n",
       "      <td>NaN</td>\n",
       "      <td>C</td>\n",
       "    </tr>\n",
       "    <tr>\n",
       "      <th>887</th>\n",
       "      <td>888</td>\n",
       "      <td>1</td>\n",
       "      <td>1</td>\n",
       "      <td>Graham, Miss. Margaret Edith</td>\n",
       "      <td>female</td>\n",
       "      <td>19.0</td>\n",
       "      <td>0</td>\n",
       "      <td>0</td>\n",
       "      <td>112053</td>\n",
       "      <td>30.0000</td>\n",
       "      <td>B42</td>\n",
       "      <td>S</td>\n",
       "    </tr>\n",
       "  </tbody>\n",
       "</table>\n",
       "</div>"
      ],
      "text/plain": [
       "     PassengerId  Survived  Pclass                                     Name  \\\n",
       "830          831         1       3  Yasbeck, Mrs. Antoni (Selini Alexander)   \n",
       "853          854         1       1                Lines, Miss. Mary Conover   \n",
       "855          856         1       3               Aks, Mrs. Sam (Leah Rosen)   \n",
       "875          876         1       3         Najib, Miss. Adele Kiamie \"Jane\"   \n",
       "887          888         1       1             Graham, Miss. Margaret Edith   \n",
       "\n",
       "        Sex   Age  SibSp  Parch    Ticket     Fare Cabin Embarked  \n",
       "830  female  15.0      1      0      2659  14.4542   NaN        C  \n",
       "853  female  16.0      0      1  PC 17592  39.4000   D28        S  \n",
       "855  female  18.0      0      1    392091   9.3500   NaN        S  \n",
       "875  female  15.0      0      0      2667   7.2250   NaN        C  \n",
       "887  female  19.0      0      0    112053  30.0000   B42        S  "
      ]
     },
     "execution_count": 29,
     "metadata": {},
     "output_type": "execute_result"
    }
   ],
   "source": [
    "# CASUALITIES ANALYSIS\n",
    "# Extracting the data of teens casualities\n",
    "no_of_teens_died = data[ (data['Age'] >= 13.0) & (data['Age'] <= 19.0) & (data['Survived'] == 0) ]\n",
    "no_of_teens.tail(5)"
   ]
  },
  {
   "cell_type": "code",
   "execution_count": 30,
   "metadata": {},
   "outputs": [
    {
     "name": "stdout",
     "output_type": "stream",
     "text": [
      "Number of teens who died : 56\n"
     ]
    }
   ],
   "source": [
    "###### Calculating their total .\n",
    "print(\"Number of teens who died :\" ,len(no_of_teens_died))"
   ]
  },
  {
   "cell_type": "code",
   "execution_count": 32,
   "metadata": {},
   "outputs": [
    {
     "name": "stdout",
     "output_type": "stream",
     "text": [
      "The maximum number of teens who died are 44 and they belongs to the class 3 i.e 'Lower class'\n",
      "The minimum number of teens who died are 3 and they belongs to the class 1 i.e 'Upper class'\n"
     ]
    }
   ],
   "source": [
    "###### Breaking the teen casualities into each Class i.e UPPER , MIDDLE , LOWER\n",
    "upper_class_teens_died = len(no_of_teens_died[no_of_teens_died['Pclass'] == 1])\n",
    "middle_class_teens_died = len(no_of_teens_died[no_of_teens_died['Pclass'] == 2])\n",
    "lower_class_teens_died = len(no_of_teens_died[no_of_teens_died['Pclass'] == 3])\n",
    "###### Checking the CLASS from which the max number of teens have died\n",
    "if upper_class_teens_died > middle_class_teens_died and upper_class_teens_died > lower_class_teens_died:\n",
    "    print(\"The maximum number of teens who died are\",upper_class_teens_died,\"and they belongs to the class 1 i.e 'Upper class'\")\n",
    "elif lower_class_teens_died > middle_class_teens_died and lower_class_teens_died > upper_class_teens_died:\n",
    "    print(\"The maximum number of teens who died are\",lower_class_teens_died,\"and they belongs to the class 3 i.e 'Lower class'\")\n",
    "elif middle_class_teens_died > upper_class_teens_died and middle_class_teens_died > lower_class_teens_died :\n",
    "    print(\"The maximum number of teens who died are\",middle_class_teens_died,\"and they belongs to the class 2 i.e 'Middle class'\")\n",
    "###### Checking the CLASS from which the minimum number of teens have survived \n",
    "if upper_class_teens_died < middle_class_teens_died and upper_class_teens_died < lower_class_teens_died:\n",
    "    print(\"The minimum number of teens who died are\",upper_class_teens_died,\"and they belongs to the class 1 i.e 'Upper class'\")\n",
    "elif lower_class_teens_died < middle_class_teens_died and lower_class_teens_died < upper_class_teens_died:\n",
    "    print(\"The minimum number of teens who died are\",lower_class_teens_died,\"and they belongs to the class 3 i.e 'Lower class'\")\n",
    "elif middle_class_teens_died < upper_class_teens_died and middle_class_teens_died < lower_class_teens_died :\n",
    "    print(\"The minimum number of teens who died are\",middle_class_teens_died,\"and they belongs to the class 2 i.e 'Middle class'\")\n",
    "        "
   ]
  },
  {
   "cell_type": "code",
   "execution_count": 34,
   "metadata": {},
   "outputs": [
    {
     "name": "stdout",
     "output_type": "stream",
     "text": [
      "The number of died females who belongs to 'upper class' : 2\n",
      "\n",
      "The number of died males who belongs to 'upper class' : 74\n",
      "The number of died females who belongs to 'Middle class' : 6\n",
      "\n",
      "The number of died males who belongs to 'Middle class' : 82\n",
      "The number of died females who belongs to 'Lower class' : 51\n",
      "\n",
      "The number of died males who belongs to 'Lower class' : 249\n"
     ]
    }
   ],
   "source": [
    "###### Calculating the total number of female and Male casualities of UPPER CLASS\n",
    "no_of_died_female_class1 = len(data[((data[\"Sex\"] == \"female\") & ((data['Age'] > 19) | (data['Age'].isnull())) & (data['Pclass'] == 1) & (data['Survived'] == 0))])\n",
    "no_of_died_male_class1 = len(data[(data[\"Sex\"] == \"male\") & ((data['Age'] > 19)  | (data['Age'].isnull())) & (data['Pclass'] == 1) & (data['Survived'] == 0)])\n",
    "print(\"The number of died females who belongs to 'upper class' :\",no_of_died_female_class1)\n",
    "print(\"\\nThe number of died males who belongs to 'upper class' :\",no_of_died_male_class1)\n",
    "###### Calculating the total number of female and Male casualities of MIDDLE CLASS\n",
    "no_of_died_female_class2 = len(data[((data[\"Sex\"] == \"female\") & ((data['Age'] > 19) | (data['Age'].isnull())) & (data['Pclass'] == 2) & (data['Survived'] == 0))])\n",
    "no_of_died_male_class2 = len(data[(data[\"Sex\"] == \"male\") & ((data['Age'] > 19)  | (data['Age'].isnull())) & (data['Pclass'] == 2) & (data['Survived'] == 0)])\n",
    "print(\"The number of died females who belongs to 'Middle class' :\",no_of_died_female_class2)\n",
    "print(\"\\nThe number of died males who belongs to 'Middle class' :\",no_of_died_male_class2)\n",
    "###### Calculating the total number of female and Male casualities of LOWER CLASS\n",
    "no_of_died_female_class3 = len(data[((data[\"Sex\"] == \"female\") & ((data['Age'] > 19) | (data['Age'].isnull())) & (data['Pclass'] == 3) & (data['Survived'] == 0))])\n",
    "no_of_died_male_class3 = len(data[(data[\"Sex\"] == \"male\") & ((data['Age'] > 19)  | (data['Age'].isnull())) & (data['Pclass'] == 3) & (data['Survived'] == 0)])\n",
    "print(\"The number of died females who belongs to 'Lower class' :\",no_of_died_female_class3)\n",
    "print(\"\\nThe number of died males who belongs to 'Lower class' :\",no_of_died_male_class3)"
   ]
  },
  {
   "cell_type": "code",
   "execution_count": 35,
   "metadata": {},
   "outputs": [
    {
     "data": {
      "text/plain": [
       "1"
      ]
     },
     "execution_count": 35,
     "metadata": {},
     "output_type": "execute_result"
    }
   ],
   "source": [
    "###### Extracting the total number of kids casualities and then dividing them into their CLASSES\n",
    "_kids = data[(data['Age'] < 13) & (data['Survived'] == 0)]\n",
    "upper_class_died_kids = _kids[_kids['Pclass'] == 1]\n",
    "upper_class_died_kids = len(upper_class_died_kids)\n",
    "upper_class_died_kids"
   ]
  },
  {
   "cell_type": "code",
   "execution_count": 36,
   "metadata": {},
   "outputs": [
    {
     "data": {
      "text/plain": [
       "0"
      ]
     },
     "execution_count": 36,
     "metadata": {},
     "output_type": "execute_result"
    }
   ],
   "source": [
    "mid_class_died_kids = _kids[_kids['Pclass'] == 2]\n",
    "mid_class_died_kids = len(mid_class_died_kids)\n",
    "mid_class_died_kids"
   ]
  },
  {
   "cell_type": "code",
   "execution_count": 37,
   "metadata": {},
   "outputs": [
    {
     "data": {
      "text/plain": [
       "28"
      ]
     },
     "execution_count": 37,
     "metadata": {},
     "output_type": "execute_result"
    }
   ],
   "source": [
    "low_class_died_kids = _kids[_kids['Pclass'] == 3]\n",
    "low_class_died_kids = len(low_class_died_kids)\n",
    "low_class_died_kids"
   ]
  },
  {
   "cell_type": "code",
   "execution_count": 39,
   "metadata": {},
   "outputs": [
    {
     "name": "stdout",
     "output_type": "stream",
     "text": [
      "Total number of females who died : 59\n",
      "\n",
      "Total number of males who died : 405\n",
      "\n",
      "Total number of teens who died : 56\n",
      "\n",
      "The number of kids died : 29\n"
     ]
    }
   ],
   "source": [
    "###### After extracting the casualities data , now breaking the deaths into MALES , FEMALES , TEENS , CHILDREN \n",
    "total_females_died = no_of_died_female_class1 + no_of_died_female_class2 + no_of_died_female_class3\n",
    "print(\"Total number of females who died :\",total_females_died)\n",
    "\n",
    "total_male_died = no_of_died_male_class1 + no_of_died_male_class2 + no_of_died_male_class3\n",
    "print(\"\\nTotal number of males who died :\",total_male_died)\n",
    "\n",
    "total_teens_died = len(no_of_teens_died)\n",
    "print(\"\\nTotal number of teens who died :\" ,total_teens_died)\n",
    "\n",
    "\n",
    "total_died_kids = len(_kids)\n",
    "print(\"\\nThe number of kids died :\" , total_died_kids)"
   ]
  },
  {
   "cell_type": "code",
   "execution_count": 41,
   "metadata": {},
   "outputs": [
    {
     "data": {
      "text/plain": [
       "True"
      ]
     },
     "execution_count": 41,
     "metadata": {},
     "output_type": "execute_result"
    }
   ],
   "source": [
    "# I have calculated no. of females , males , teens and children casualities uptil now . Now Its time to cross check with the total of casualities of Titanic incident \n",
    "(total_females_died + total_male_died+ total_teens_died + total_died_kids) == len(death)"
   ]
  },
  {
   "cell_type": "code",
   "execution_count": 42,
   "metadata": {},
   "outputs": [
    {
     "data": {
      "text/plain": [
       "216"
      ]
     },
     "execution_count": 42,
     "metadata": {},
     "output_type": "execute_result"
    }
   ],
   "source": [
    "# UPPER CLASS\n",
    "# Total passengers of upper class\n",
    "upper_class = data[data['Pclass'] == 1]\n",
    "total_upper_class = len(upper_class)\n",
    "total_upper_class\n"
   ]
  },
  {
   "cell_type": "code",
   "execution_count": 44,
   "metadata": {},
   "outputs": [
    {
     "data": {
      "text/plain": [
       "136"
      ]
     },
     "execution_count": 44,
     "metadata": {},
     "output_type": "execute_result"
    }
   ],
   "source": [
    "# upper class passengers who survived\n",
    "upper_class_survivals = upper_class_teens + no_of_survived_male_class1 + no_of_survived_female_class1 + upper_class_kids\n",
    "upper_class_survivals"
   ]
  },
  {
   "cell_type": "code",
   "execution_count": 45,
   "metadata": {},
   "outputs": [
    {
     "data": {
      "text/plain": [
       "80"
      ]
     },
     "execution_count": 45,
     "metadata": {},
     "output_type": "execute_result"
    }
   ],
   "source": [
    "# upper class passenger who died\n",
    "upper_class_casualities = total_upper_class - upper_class_survivals\n",
    "upper_class_casualities\n"
   ]
  },
  {
   "cell_type": "code",
   "execution_count": 46,
   "metadata": {},
   "outputs": [
    {
     "name": "stdout",
     "output_type": "stream",
     "text": [
      "63% has survived\n"
     ]
    }
   ],
   "source": [
    "# Survival Rate of Upper Class in Percentage\n",
    "sper_upper_class = round(upper_class_survivals / total_upper_class * 100)\n",
    "print(str(sper_upper_class)+\"% has survived\")"
   ]
  },
  {
   "cell_type": "code",
   "execution_count": 47,
   "metadata": {},
   "outputs": [
    {
     "name": "stdout",
     "output_type": "stream",
     "text": [
      "37% has died\n"
     ]
    }
   ],
   "source": [
    "# Death Rate of in Percentage\n",
    "dper_upper_class = round(upper_class_casualities / total_upper_class * 100)\n",
    "print(str(dper_upper_class)+\"% has died\")"
   ]
  },
  {
   "cell_type": "code",
   "execution_count": 48,
   "metadata": {},
   "outputs": [
    {
     "data": {
      "text/plain": [
       "184"
      ]
     },
     "execution_count": 48,
     "metadata": {},
     "output_type": "execute_result"
    }
   ],
   "source": [
    "# MIDDLE CLASS\n",
    "# Total passengers of Middle class\n",
    "mid_class = data[data['Pclass'] == 2]\n",
    "total_mid_class = len(mid_class)\n",
    "total_mid_class"
   ]
  },
  {
   "cell_type": "code",
   "execution_count": 49,
   "metadata": {},
   "outputs": [
    {
     "data": {
      "text/plain": [
       "87"
      ]
     },
     "execution_count": 49,
     "metadata": {},
     "output_type": "execute_result"
    }
   ],
   "source": [
    "# passengers who survived\n",
    "mid_class_survivals = middle_class_teens + no_of_survived_male_class2 + no_of_survived_female_class2 + middle_class_kids\n",
    "mid_class_survivals"
   ]
  },
  {
   "cell_type": "code",
   "execution_count": 50,
   "metadata": {},
   "outputs": [
    {
     "data": {
      "text/plain": [
       "97"
      ]
     },
     "execution_count": 50,
     "metadata": {},
     "output_type": "execute_result"
    }
   ],
   "source": [
    "#passengers who died\n",
    "mid_class_casualities = total_mid_class - mid_class_survivals\n",
    "mid_class_casualities"
   ]
  },
  {
   "cell_type": "code",
   "execution_count": 51,
   "metadata": {},
   "outputs": [
    {
     "name": "stdout",
     "output_type": "stream",
     "text": [
      "47% has survived\n"
     ]
    }
   ],
   "source": [
    "#survive rate\n",
    "sper_mid_class = round(mid_class_survivals / total_mid_class * 100)\n",
    "print(str(sper_mid_class)+\"% has survived\")"
   ]
  },
  {
   "cell_type": "code",
   "execution_count": 52,
   "metadata": {},
   "outputs": [
    {
     "name": "stdout",
     "output_type": "stream",
     "text": [
      "53% has died\n"
     ]
    }
   ],
   "source": [
    "#death rate in %\n",
    "dper_mid_class = round(mid_class_casualities / total_mid_class * 100)\n",
    "print(str(dper_mid_class)+\"% has died\")"
   ]
  },
  {
   "cell_type": "code",
   "execution_count": 53,
   "metadata": {},
   "outputs": [
    {
     "data": {
      "text/plain": [
       "491"
      ]
     },
     "execution_count": 53,
     "metadata": {},
     "output_type": "execute_result"
    }
   ],
   "source": [
    "#LOWER CLASS\n",
    "# Total passengers of Lower class\n",
    "low_class = data[data['Pclass'] == 3]\n",
    "total_low_class = len(low_class)\n",
    "total_low_class"
   ]
  },
  {
   "cell_type": "code",
   "execution_count": 54,
   "metadata": {},
   "outputs": [
    {
     "data": {
      "text/plain": [
       "119"
      ]
     },
     "execution_count": 54,
     "metadata": {},
     "output_type": "execute_result"
    }
   ],
   "source": [
    "#passengers who survived\n",
    "low_class_survivals = lower_class_teens + no_of_survived_male_class3 + no_of_survived_female_class3 + lower_class_kids\n",
    "low_class_survivals"
   ]
  },
  {
   "cell_type": "code",
   "execution_count": 55,
   "metadata": {},
   "outputs": [
    {
     "data": {
      "text/plain": [
       "372"
      ]
     },
     "execution_count": 55,
     "metadata": {},
     "output_type": "execute_result"
    }
   ],
   "source": [
    "#passengers who died\n",
    "low_class_casualities = total_low_class - low_class_survivals\n",
    "low_class_casualities"
   ]
  },
  {
   "cell_type": "code",
   "execution_count": 56,
   "metadata": {},
   "outputs": [
    {
     "name": "stdout",
     "output_type": "stream",
     "text": [
      "24% has survived\n"
     ]
    }
   ],
   "source": [
    "#Survival Rate in Percentage\n",
    "sper_low_class = round(low_class_survivals / total_low_class * 100)\n",
    "print(str(sper_low_class)+\"% has survived\")"
   ]
  },
  {
   "cell_type": "code",
   "execution_count": 57,
   "metadata": {},
   "outputs": [
    {
     "name": "stdout",
     "output_type": "stream",
     "text": [
      "76% has died\n"
     ]
    }
   ],
   "source": [
    "#Death Rate in Percentage\n",
    "dper_low_class = round(low_class_casualities / total_low_class * 100)\n",
    "print(str(dper_low_class)+\"% has died\")"
   ]
  },
  {
   "cell_type": "code",
   "execution_count": 60,
   "metadata": {},
   "outputs": [
    {
     "name": "stdout",
     "output_type": "stream",
     "text": [
      "The total number of people who survived in a disaster : 342\n",
      "The total number of people who died in a disaster : 549\n"
     ]
    }
   ],
   "source": [
    "no_of_survived_people = len(survived)\n",
    "no_of_casualities = len(death)\n",
    "print(\"The total number of people who survived in a disaster :\", no_of_survived_people)\n",
    "print(\"The total number of people who died in a disaster :\" , no_of_casualities)\n"
   ]
  },
  {
   "cell_type": "code",
   "execution_count": 61,
   "metadata": {},
   "outputs": [
    {
     "data": {
      "text/plain": [
       "True"
      ]
     },
     "execution_count": 61,
     "metadata": {},
     "output_type": "execute_result"
    }
   ],
   "source": [
    "#Cross Checking The total number of survivals v/s Calculated survivals\n",
    "(upper_class_survivals + mid_class_survivals + low_class_survivals) == no_of_survived_people"
   ]
  },
  {
   "cell_type": "markdown",
   "metadata": {},
   "source": [
    "# VISUALIZATION\n",
    "#Visualizing the Survival And Death rate of All Classes\n",
    "#Each of the 3 classes includes all Men , Women , Teens , Children belongs to that particular class\n"
   ]
  },
  {
   "cell_type": "code",
   "execution_count": 63,
   "metadata": {},
   "outputs": [
    {
     "data": {
      "text/html": [
       "<div>\n",
       "<style scoped>\n",
       "    .dataframe tbody tr th:only-of-type {\n",
       "        vertical-align: middle;\n",
       "    }\n",
       "\n",
       "    .dataframe tbody tr th {\n",
       "        vertical-align: top;\n",
       "    }\n",
       "\n",
       "    .dataframe thead th {\n",
       "        text-align: right;\n",
       "    }\n",
       "</style>\n",
       "<table border=\"1\" class=\"dataframe\">\n",
       "  <thead>\n",
       "    <tr style=\"text-align: right;\">\n",
       "      <th></th>\n",
       "      <th>Survival</th>\n",
       "      <th>Casualities</th>\n",
       "    </tr>\n",
       "  </thead>\n",
       "  <tbody>\n",
       "    <tr>\n",
       "      <th>upper</th>\n",
       "      <td>63</td>\n",
       "      <td>37</td>\n",
       "    </tr>\n",
       "    <tr>\n",
       "      <th>middle</th>\n",
       "      <td>47</td>\n",
       "      <td>53</td>\n",
       "    </tr>\n",
       "    <tr>\n",
       "      <th>lower</th>\n",
       "      <td>24</td>\n",
       "      <td>76</td>\n",
       "    </tr>\n",
       "  </tbody>\n",
       "</table>\n",
       "</div>"
      ],
      "text/plain": [
       "        Survival  Casualities\n",
       "upper         63           37\n",
       "middle        47           53\n",
       "lower         24           76"
      ]
     },
     "execution_count": 63,
     "metadata": {},
     "output_type": "execute_result"
    }
   ],
   "source": [
    "dic = { \"Survival\": [sper_upper_class,sper_mid_class,sper_low_class] , \n",
    "       \"Casualities\" : [dper_upper_class,dper_mid_class, dper_low_class] }\n",
    "df = pd.DataFrame(dic , index=[\"upper\" , \"middle\" , \"lower\"])\n",
    "df"
   ]
  },
  {
   "cell_type": "code",
   "execution_count": 66,
   "metadata": {},
   "outputs": [
    {
     "data": {
      "image/png": "[encoded data removed]",
      "text/plain": [
       "<Figure size 479.425x324 with 1 Axes>"
      ]
     },
     "metadata": {
      "needs_background": "light"
     },
     "output_type": "display_data"
    }
   ],
   "source": [
    "sb.relplot( data=df , kind = \"line\",linewidth = 3 , height=4.5 , aspect=1.2 )\n",
    "import matplotlib.pyplot as plt\n",
    "plt.title('\\n Death v/s Survival Rate In All Classes\\n' ,  fontsize=20)\n",
    "plt.xlabel(\"\\nSocial Classes\\n\" ,  fontsize=14)\n",
    "plt.ylabel(\"Rates in Percentage\" ,  fontsize=14)\n",
    "plt.tick_params(axis='both', labelsize=12)"
   ]
  },
  {
   "cell_type": "code",
   "execution_count": 68,
   "metadata": {},
   "outputs": [
    {
     "data": {
      "image/png": "[encoded data removed]",
      "text/plain": [
       "<Figure size 388.8x324 with 1 Axes>"
      ]
     },
     "metadata": {
      "needs_background": "light"
     },
     "output_type": "display_data"
    }
   ],
   "source": [
    "sb.catplot( data=df , kind = \"violin\", split=True, linewidth = 3 , height=4.5 , aspect=1.2 )\n",
    "plt.title('\\n Death v/s Survival Rate In All Classes\\n' ,  fontsize=20)\n",
    "plt.xlabel(\"\\nSocial Classes\\n\" ,  fontsize=14)\n",
    "plt.ylabel(\"Rates in Percentage\" ,  fontsize=14)\n",
    "plt.tick_params(axis='both', labelsize=12)"
   ]
  },
  {
   "cell_type": "markdown",
   "metadata": {},
   "source": [
    "# Visualizing the survival vs death rate of Men , Women , Teens , Children of each class ,\n",
    "#i.e Upper Class , Middle Class , Lower Class\n"
   ]
  },
  {
   "cell_type": "code",
   "execution_count": 69,
   "metadata": {},
   "outputs": [],
   "source": [
    "dic = {\n",
    "    \"Survived Males\" : [no_of_survived_male_class1 , no_of_survived_male_class2, no_of_survived_male_class3], \n",
    "    \"Died Males\" : [no_of_died_male_class1 , no_of_died_male_class2, no_of_died_male_class3] ,\n",
    "    \"Survived Females\" : [no_of_survived_female_class1, no_of_survived_female_class2 , no_of_survived_female_class3] , \n",
    "     \"Died Females\" : [no_of_died_female_class1, no_of_died_female_class2 , no_of_died_female_class3],\n",
    "    \"Survived Teens\" : [upper_class_teens , middle_class_teens , lower_class_teens] , \n",
    "    \"Died Teens\" : [upper_class_teens_died , middle_class_teens_died , lower_class_teens_died] , \n",
    "    \"Survived Kids\" :[upper_class_kids , middle_class_kids , lower_class_kids],\n",
    "    \"Died Kids\" :[upper_class_died_kids , mid_class_died_kids , low_class_died_kids]\n",
    "}"
   ]
  },
  {
   "cell_type": "code",
   "execution_count": 70,
   "metadata": {},
   "outputs": [
    {
     "data": {
      "text/html": [
       "<div>\n",
       "<style scoped>\n",
       "    .dataframe tbody tr th:only-of-type {\n",
       "        vertical-align: middle;\n",
       "    }\n",
       "\n",
       "    .dataframe tbody tr th {\n",
       "        vertical-align: top;\n",
       "    }\n",
       "\n",
       "    .dataframe thead th {\n",
       "        text-align: right;\n",
       "    }\n",
       "</style>\n",
       "<table border=\"1\" class=\"dataframe\">\n",
       "  <thead>\n",
       "    <tr style=\"text-align: right;\">\n",
       "      <th></th>\n",
       "      <th>Survived Males</th>\n",
       "      <th>Died Males</th>\n",
       "      <th>Survived Females</th>\n",
       "      <th>Died Females</th>\n",
       "      <th>Survived Teens</th>\n",
       "      <th>Died Teens</th>\n",
       "      <th>Survived Kids</th>\n",
       "      <th>Died Kids</th>\n",
       "    </tr>\n",
       "  </thead>\n",
       "  <tbody>\n",
       "    <tr>\n",
       "      <th>upper</th>\n",
       "      <td>41</td>\n",
       "      <td>74</td>\n",
       "      <td>78</td>\n",
       "      <td>2</td>\n",
       "      <td>14</td>\n",
       "      <td>3</td>\n",
       "      <td>3</td>\n",
       "      <td>1</td>\n",
       "    </tr>\n",
       "    <tr>\n",
       "      <th>middle</th>\n",
       "      <td>7</td>\n",
       "      <td>82</td>\n",
       "      <td>54</td>\n",
       "      <td>6</td>\n",
       "      <td>9</td>\n",
       "      <td>9</td>\n",
       "      <td>17</td>\n",
       "      <td>0</td>\n",
       "    </tr>\n",
       "    <tr>\n",
       "      <th>lower</th>\n",
       "      <td>35</td>\n",
       "      <td>249</td>\n",
       "      <td>48</td>\n",
       "      <td>51</td>\n",
       "      <td>16</td>\n",
       "      <td>44</td>\n",
       "      <td>20</td>\n",
       "      <td>28</td>\n",
       "    </tr>\n",
       "  </tbody>\n",
       "</table>\n",
       "</div>"
      ],
      "text/plain": [
       "        Survived Males  Died Males  Survived Females  Died Females  \\\n",
       "upper               41          74                78             2   \n",
       "middle               7          82                54             6   \n",
       "lower               35         249                48            51   \n",
       "\n",
       "        Survived Teens  Died Teens  Survived Kids  Died Kids  \n",
       "upper               14           3              3          1  \n",
       "middle               9           9             17          0  \n",
       "lower               16          44             20         28  "
      ]
     },
     "execution_count": 70,
     "metadata": {},
     "output_type": "execute_result"
    }
   ],
   "source": [
    "df = pd.DataFrame(dic , index = ['upper' , 'middle' , 'lower'])\n",
    "df"
   ]
  },
  {
   "cell_type": "code",
   "execution_count": 71,
   "metadata": {},
   "outputs": [
    {
     "data": {
      "image/png": "[encoded data removed]",
      "text/plain": [
       "<Figure size 972x216 with 1 Axes>"
      ]
     },
     "metadata": {
      "needs_background": "light"
     },
     "output_type": "display_data"
    }
   ],
   "source": [
    "qualitative_colors = sb.color_palette(\"Dark2\", 10)\n",
    "\n",
    "sb.catplot( data=df , kind =\"point\" , height=3, saturation=3.5, aspect=4.5  , palette = qualitative_colors)\n",
    "\n",
    "plt.title('\\n Death v/s Survival Rate Of Different Groups \\n' ,  fontsize=17)\n",
    "\n",
    "plt.xlabel(\"\\n Categories\\n\" ,  fontsize=10)\n",
    "\n",
    "plt.ylabel(\"Number of Each Class\" ,  fontsize=14)\n",
    "\n",
    "plt.tick_params(axis='both', labelsize=14)"
   ]
  },
  {
   "cell_type": "code",
   "execution_count": 72,
   "metadata": {},
   "outputs": [
    {
     "data": {
      "image/png": "[encoded data removed]",
      "text/plain": [
       "<Figure size 880.875x540 with 1 Axes>"
      ]
     },
     "metadata": {
      "needs_background": "light"
     },
     "output_type": "display_data"
    }
   ],
   "source": [
    "#Ploting the same in different graph's type\n",
    "sb.relplot( data=df , kind = \"line\", linewidth = 2.5 , height=7.5 , aspect=1.4 , dashes = False )\n",
    "\n",
    "plt.title('\\n Death v/s Survival Rate Of Different Groups \\n' ,  fontsize=20)\n",
    "\n",
    "plt.xlabel(\"\\n Categories\\n\" ,  fontsize=14)\n",
    "\n",
    "plt.ylabel(\"Quantity of Each Class\" ,  fontsize=14)\n",
    "\n",
    "plt.tick_params(axis='both', labelsize=12)"
   ]
  },
  {
   "cell_type": "markdown",
   "metadata": {},
   "source": [
    "# CONCLUSION :"
   ]
  },
  {
   "cell_type": "code",
   "execution_count": 76,
   "metadata": {},
   "outputs": [],
   "source": [
    "con_dic = {\n",
    "    \"Total Passengers\" : total_passangers ,\n",
    "    \"Total Survivals\"  : no_of_survived_people ,\n",
    "    \"Total Casualities\" : no_of_casualities ,\n",
    "    \"Total Upper-Class\" : total_upper_class ,\n",
    "    \"Total Middle-Class\" : total_middle_class ,\n",
    "    \"Total Lower-Class\" : total_lower_class ,\n",
    "    \"Total Upper-Class Survivals\" : upper_class_survivals ,\n",
    "    \"Total Upper-Class Casualities\" : upper_class_casualities , \n",
    "    \"Total Middle-Class Survivals\" : mid_class_survivals,\n",
    "    \"Total Middle-Class Casualities\" : mid_class_casualities,\n",
    "    \"Total Lower-Class Survivals\" :low_class_survivals ,\n",
    "    \"Total Lower-Class Casualities\" : low_class_casualities,\n",
    "    \"Total Male-Survived\" : total_male_survived ,\n",
    "    \"Total Female-Survived\" : total_females_survived ,\n",
    "    \"Total Teens-Survived\" : total_teens_survived ,\n",
    "    \"Total Children-Survived\" : total_kids_survived , \n",
    "    \"Total Male-Died\" : total_male_died ,\n",
    "    \"Total Female-Died\" : total_females_died ,\n",
    "    \"Total Teens-Died\" : total_teens_died ,\n",
    "    \"Total Children-Died\" : total_died_kids \n",
    "}\n",
    "\n",
    "con_dic1 = {\n",
    "    \"Total Passengers\" : total_passangers ,\n",
    "    \"Total Survivals\"  : no_of_survived_people ,\n",
    "    \"Total Casualities\" : no_of_casualities ,\n",
    "    \"Total Upper-Class\" : total_upper_class ,\n",
    "    \"Total Middle-Class\" : total_middle_class ,\n",
    "    \"Total Lower-Class\" : total_lower_class ,\n",
    "          }\n",
    "\n",
    "con_dic2 = {\n",
    "    \"Total Upper-Class Survivals\" : upper_class_survivals ,\n",
    "    \"Total Upper-Class Casualities\" : upper_class_casualities , \n",
    "    \"Total Middle-Class Survivals\" : mid_class_survivals,\n",
    "    \"Total Middle-Class Casualities\" : mid_class_casualities,\n",
    "    \"Total Lower-Class Survivals\" :low_class_survivals ,\n",
    "    \"Total Lower-Class Casualities\" : low_class_casualities  \n",
    "}\n",
    "\n",
    "con_dic3 = {\n",
    "    \"Total Male-Survived\" : total_male_survived ,\n",
    "    \"Total Female-Survived\" : total_females_survived ,\n",
    "    \"Total Teens-Survived\" : total_teens_survived ,\n",
    "    \"Total Children-Survived\" : total_kids_survived , \n",
    "    \"Total Male-Died\" : total_male_died ,\n",
    "    \"Total Female-Died\" : total_females_died ,\n",
    "    \"Total Teens-Died\" : total_teens_died ,\n",
    "    \"Total Children-Died\" : total_died_kids ,\n",
    "}"
   ]
  },
  {
   "cell_type": "code",
   "execution_count": 77,
   "metadata": {},
   "outputs": [
    {
     "name": "stdout",
     "output_type": "stream",
     "text": [
      "\n",
      "\t************\n",
      "\t CONCLUSION\n",
      "\t************\n",
      "\n",
      "\n",
      "Total Passengers                  891\n",
      "Total Survivals                   342\n",
      "Total Casualities                 549\n",
      "Total Upper-Class                 216\n",
      "Total Middle-Class                184\n",
      "Total Lower-Class                 491\n",
      "Total Upper-Class Survivals       136\n",
      "Total Upper-Class Casualities      80\n",
      "Total Middle-Class Survivals       87\n",
      "Total Middle-Class Casualities     97\n",
      "Total Lower-Class Survivals       119\n",
      "Total Lower-Class Casualities     372\n",
      "Total Male-Survived                83\n",
      "Total Female-Survived             180\n",
      "Total Teens-Survived               39\n",
      "Total Children-Survived            40\n",
      "Total Male-Died                   405\n",
      "Total Female-Died                  59\n",
      "Total Teens-Died                   56\n",
      "Total Children-Died                29\n",
      "dtype: int64\n"
     ]
    }
   ],
   "source": [
    "con = pd.Series(con_dic)\n",
    "\n",
    "print(\"\\n\\t************\")\n",
    "print(\"\\t CONCLUSION\")\n",
    "print(\"\\t************\\n\\n\")\n",
    "print(con)"
   ]
  },
  {
   "cell_type": "code",
   "execution_count": 78,
   "metadata": {},
   "outputs": [],
   "source": [
    "a = pd.DataFrame([con_dic1] , columns = [\"Total Passengers\" ,\"Total Survivals\",\"Total Casualities\",\"Total Upper-Class\",\n",
    "                                   \"Total Middle-Class\",\"Total Lower-Class\"])\n",
    "b = pd.DataFrame([con_dic2] , columns= [\"Total Upper-Class Survivals\",\"Total Upper-Class Casualities\",\n",
    "                                    \"Total Middle-Class Survivals\",\"Total Middle-Class Casualities\",\n",
    "                                    \"Total Lower-Class Survivals\",\"Total Lower-Class Casualities\"])\n",
    "c =pd.DataFrame([con_dic3] , columns =[\"Total Male-Survived\",\"Total Female-Survived\",\"Total Teens-Survived\",\n",
    "                                    \"Total Children-Survived\",\"Total Male-Died\",\"Total Female-Died\",\"Total Teens-Died\",\n",
    "                                    \"Total Children-Died\"])"
   ]
  },
  {
   "cell_type": "code",
   "execution_count": 80,
   "metadata": {},
   "outputs": [
    {
     "data": {
      "text/html": [
       "<div>\n",
       "<style scoped>\n",
       "    .dataframe tbody tr th:only-of-type {\n",
       "        vertical-align: middle;\n",
       "    }\n",
       "\n",
       "    .dataframe tbody tr th {\n",
       "        vertical-align: top;\n",
       "    }\n",
       "\n",
       "    .dataframe thead th {\n",
       "        text-align: right;\n",
       "    }\n",
       "</style>\n",
       "<table border=\"1\" class=\"dataframe\">\n",
       "  <thead>\n",
       "    <tr style=\"text-align: right;\">\n",
       "      <th></th>\n",
       "      <th>Total Passengers</th>\n",
       "      <th>Total Survivals</th>\n",
       "      <th>Total Casualities</th>\n",
       "      <th>Total Upper-Class</th>\n",
       "      <th>Total Middle-Class</th>\n",
       "      <th>Total Lower-Class</th>\n",
       "    </tr>\n",
       "  </thead>\n",
       "  <tbody>\n",
       "    <tr>\n",
       "      <th>0</th>\n",
       "      <td>891</td>\n",
       "      <td>342</td>\n",
       "      <td>549</td>\n",
       "      <td>216</td>\n",
       "      <td>184</td>\n",
       "      <td>491</td>\n",
       "    </tr>\n",
       "  </tbody>\n",
       "</table>\n",
       "</div>"
      ],
      "text/plain": [
       "   Total Passengers  Total Survivals  Total Casualities  Total Upper-Class  \\\n",
       "0               891              342                549                216   \n",
       "\n",
       "   Total Middle-Class  Total Lower-Class  \n",
       "0                 184                491  "
      ]
     },
     "execution_count": 80,
     "metadata": {},
     "output_type": "execute_result"
    }
   ],
   "source": [
    "a"
   ]
  },
  {
   "cell_type": "code",
   "execution_count": 81,
   "metadata": {},
   "outputs": [
    {
     "data": {
      "text/html": [
       "<div>\n",
       "<style scoped>\n",
       "    .dataframe tbody tr th:only-of-type {\n",
       "        vertical-align: middle;\n",
       "    }\n",
       "\n",
       "    .dataframe tbody tr th {\n",
       "        vertical-align: top;\n",
       "    }\n",
       "\n",
       "    .dataframe thead th {\n",
       "        text-align: right;\n",
       "    }\n",
       "</style>\n",
       "<table border=\"1\" class=\"dataframe\">\n",
       "  <thead>\n",
       "    <tr style=\"text-align: right;\">\n",
       "      <th></th>\n",
       "      <th>Total Upper-Class Survivals</th>\n",
       "      <th>Total Upper-Class Casualities</th>\n",
       "      <th>Total Middle-Class Survivals</th>\n",
       "      <th>Total Middle-Class Casualities</th>\n",
       "      <th>Total Lower-Class Survivals</th>\n",
       "      <th>Total Lower-Class Casualities</th>\n",
       "    </tr>\n",
       "  </thead>\n",
       "  <tbody>\n",
       "    <tr>\n",
       "      <th>0</th>\n",
       "      <td>136</td>\n",
       "      <td>80</td>\n",
       "      <td>87</td>\n",
       "      <td>97</td>\n",
       "      <td>119</td>\n",
       "      <td>372</td>\n",
       "    </tr>\n",
       "  </tbody>\n",
       "</table>\n",
       "</div>"
      ],
      "text/plain": [
       "   Total Upper-Class Survivals  Total Upper-Class Casualities  \\\n",
       "0                          136                             80   \n",
       "\n",
       "   Total Middle-Class Survivals  Total Middle-Class Casualities  \\\n",
       "0                            87                              97   \n",
       "\n",
       "   Total Lower-Class Survivals  Total Lower-Class Casualities  \n",
       "0                          119                            372  "
      ]
     },
     "execution_count": 81,
     "metadata": {},
     "output_type": "execute_result"
    }
   ],
   "source": [
    "b"
   ]
  },
  {
   "cell_type": "code",
   "execution_count": 82,
   "metadata": {},
   "outputs": [
    {
     "data": {
      "text/html": [
       "<div>\n",
       "<style scoped>\n",
       "    .dataframe tbody tr th:only-of-type {\n",
       "        vertical-align: middle;\n",
       "    }\n",
       "\n",
       "    .dataframe tbody tr th {\n",
       "        vertical-align: top;\n",
       "    }\n",
       "\n",
       "    .dataframe thead th {\n",
       "        text-align: right;\n",
       "    }\n",
       "</style>\n",
       "<table border=\"1\" class=\"dataframe\">\n",
       "  <thead>\n",
       "    <tr style=\"text-align: right;\">\n",
       "      <th></th>\n",
       "      <th>Total Male-Survived</th>\n",
       "      <th>Total Female-Survived</th>\n",
       "      <th>Total Teens-Survived</th>\n",
       "      <th>Total Children-Survived</th>\n",
       "      <th>Total Male-Died</th>\n",
       "      <th>Total Female-Died</th>\n",
       "      <th>Total Teens-Died</th>\n",
       "      <th>Total Children-Died</th>\n",
       "    </tr>\n",
       "  </thead>\n",
       "  <tbody>\n",
       "    <tr>\n",
       "      <th>0</th>\n",
       "      <td>83</td>\n",
       "      <td>180</td>\n",
       "      <td>39</td>\n",
       "      <td>40</td>\n",
       "      <td>405</td>\n",
       "      <td>59</td>\n",
       "      <td>56</td>\n",
       "      <td>29</td>\n",
       "    </tr>\n",
       "  </tbody>\n",
       "</table>\n",
       "</div>"
      ],
      "text/plain": [
       "   Total Male-Survived  Total Female-Survived  Total Teens-Survived  \\\n",
       "0                   83                    180                    39   \n",
       "\n",
       "   Total Children-Survived  Total Male-Died  Total Female-Died  \\\n",
       "0                       40              405                 59   \n",
       "\n",
       "   Total Teens-Died  Total Children-Died  \n",
       "0                56                   29  "
      ]
     },
     "execution_count": 82,
     "metadata": {},
     "output_type": "execute_result"
    }
   ],
   "source": [
    "c"
   ]
  },
  {
   "cell_type": "markdown",
   "metadata": {},
   "source": [
    "# # INSIGHTS FROM DATASET :\n",
    "\n",
    "\n",
    "### It is concluded that there were 891 passengers in the ship .In which only 342 could survive and unluckily 549 got died . \n",
    "\n",
    "======================================================================================================================\n",
    "\n",
    "##### There were 216 upper class passengers . In which 136 could survive and 80 out of 216 died in the ship wreck. .The survival rate was 63% however,the death rate was 37% .\n",
    "\n",
    "======================================================================================================================\n",
    "\n",
    "##### There were 184 Middle class passengers . In which 87 could survive and 97 out of 184 died in the ship wreck.The survival rate was 47% however,the death rate was 53% .\n",
    "\n",
    "======================================================================================================================\n",
    "\n",
    "##### Majority belongs to the Lower class. There were 491 passengers . This class got much affected and only 119 out of 491 could survive and 372 died in this incident.The survival rate was 24% however,the death rate was 76% ."
   ]
  },
  {
   "cell_type": "code",
   "execution_count": null,
   "metadata": {},
   "outputs": [],
   "source": []
  },
  {
   "cell_type": "code",
   "execution_count": null,
   "metadata": {},
   "outputs": [],
   "source": []
  },
  {
   "cell_type": "code",
   "execution_count": null,
   "metadata": {},
   "outputs": [],
   "source": []
  },
  {
   "cell_type": "code",
   "execution_count": null,
   "metadata": {},
   "outputs": [],
   "source": []
  },
  {
   "cell_type": "code",
   "execution_count": null,
   "metadata": {},
   "outputs": [],
   "source": []
  },
  {
   "cell_type": "code",
   "execution_count": null,
   "metadata": {},
   "outputs": [],
   "source": []
  },
  {
   "cell_type": "code",
   "execution_count": null,
   "metadata": {},
   "outputs": [],
   "source": []
  },
  {
   "cell_type": "code",
   "execution_count": null,
   "metadata": {},
   "outputs": [],
   "source": []
  },
  {
   "cell_type": "code",
   "execution_count": null,
   "metadata": {},
   "outputs": [],
   "source": []
  },
  {
   "cell_type": "code",
   "execution_count": null,
   "metadata": {},
   "outputs": [],
   "source": []
  },
  {
   "cell_type": "code",
   "execution_count": null,
   "metadata": {},
   "outputs": [],
   "source": []
  },
  {
   "cell_type": "code",
   "execution_count": null,
   "metadata": {},
   "outputs": [],
   "source": []
  },
  {
   "cell_type": "code",
   "execution_count": null,
   "metadata": {},
   "outputs": [],
   "source": []
  },
  {
   "cell_type": "code",
   "execution_count": null,
   "metadata": {},
   "outputs": [],
   "source": []
  },
  {
   "cell_type": "code",
   "execution_count": null,
   "metadata": {},
   "outputs": [],
   "source": []
  },
  {
   "cell_type": "code",
   "execution_count": null,
   "metadata": {},
   "outputs": [],
   "source": []
  },
  {
   "cell_type": "code",
   "execution_count": null,
   "metadata": {},
   "outputs": [],
   "source": []
  },
  {
   "cell_type": "code",
   "execution_count": null,
   "metadata": {},
   "outputs": [],
   "source": []
  },
  {
   "cell_type": "code",
   "execution_count": null,
   "metadata": {},
   "outputs": [],
   "source": []
  }
 ],
 "metadata": {
  "kernelspec": {
   "display_name": "Python 3",
   "language": "python",
   "name": "python3"
  },
  "language_info": {
   "codemirror_mode": {
    "name": "ipython",
    "version": 3
   },
   "file_extension": ".py",
   "mimetype": "text/x-python",
   "name": "python",
   "nbconvert_exporter": "python",
   "pygments_lexer": "ipython3",
   "version": "3.7.7"
  }
 },
 "nbformat": 4,
 "nbformat_minor": 4
}
